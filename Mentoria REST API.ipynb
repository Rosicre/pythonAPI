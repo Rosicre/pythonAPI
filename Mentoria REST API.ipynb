{
 "cells": [
  {
   "cell_type": "markdown",
   "id": "0baaa13b",
   "metadata": {},
   "source": [
    "### Consumir dados de uma API"
   ]
  },
  {
   "cell_type": "code",
   "execution_count": 7,
   "id": "dbdd6973",
   "metadata": {},
   "outputs": [],
   "source": [
    "import requests\n",
    "\n",
    "link = \"https://Meu-Site-com-API.rosicre.repl.co/vendas/produtos\"\n",
    "\n",
    "requisicao = requests.get(link)"
   ]
  },
  {
   "cell_type": "code",
   "execution_count": 8,
   "id": "f60e4ba9",
   "metadata": {},
   "outputs": [
    {
     "name": "stdout",
     "output_type": "stream",
     "text": [
      "{'Valor Final': {'Bermuda': 18450, 'Bermuda Estampa': 18590, 'Bermuda Linho': 25545, 'Bermuda Liso': 18683, 'Bermuda Listrado': 20212, 'Bermuda Xadrez': 20770, 'Calça': 23120, 'Calça Estampa': 21240, 'Calça Linho': 27008, 'Calça Liso': 29830, 'Calça Listrado': 22806, 'Calça Xadrez': 15355, 'Camisa': 14600, 'Camisa Estampa': 19549, 'Camisa Gola V': 11100, 'Camisa Gola V Estampa': 17582, 'Camisa Gola V Linho': 17110, 'Camisa Gola V Liso': 18644, 'Camisa Gola V Listrado': 11832, 'Camisa Gola V Xadrez': 13910, 'Camisa Linho': 21432, 'Camisa Liso': 16380, 'Camisa Listrado': 15120, 'Camisa Xadrez': 13440, 'Camiseta': 27900, 'Camiseta Estampa': 26068, 'Camiseta Linho': 26091, 'Camiseta Liso': 26180, 'Camiseta Listrado': 23640, 'Camiseta Xadrez': 31800, 'Casaco': 32250, 'Casaco Estampa': 35328, 'Casaco Linho': 36478, 'Casaco Liso': 34680, 'Casaco Listrado': 31473, 'Casaco Xadrez': 29267, 'Chinelo': 6240, 'Chinelo Estampa': 8732, 'Chinelo Linho': 10710, 'Chinelo Liso': 9940, 'Chinelo Listrado': 7592, 'Chinelo Xadrez': 8844, 'Cinto': 22800, 'Cinto Estampa': 21527, 'Cinto Linho': 34472, 'Cinto Liso': 22781, 'Cinto Listrado': 26964, 'Cinto Xadrez': 23650, 'Cueca': 7350, 'Cueca Estampa': 8844, 'Cueca Linho': 10230, 'Cueca Liso': 8280, 'Cueca Listrado': 8844, 'Cueca Xadrez': 8160, 'Gorro': 8720, 'Gorro Estampa': 11532, 'Gorro Linho': 12152, 'Gorro Liso': 12420, 'Gorro Listrado': 14744, 'Gorro Xadrez': 11730, 'Meia': 3360, 'Meia Estampa': 6250, 'Meia Linho': 8112, 'Meia Liso': 5852, 'Meia Listrado': 3811, 'Meia Xadrez': 4469, 'Mochila': 39150, 'Mochila Estampa': 34625, 'Mochila Linho': 45717, 'Mochila Liso': 40020, 'Mochila Listrado': 22275, 'Mochila Xadrez': 41035, 'Polo': 19760, 'Polo Estampa': 20562, 'Polo Linho': 28688, 'Polo Liso': 18495, 'Polo Listrado': 16688, 'Polo Xadrez': 19170, 'Pulseira': 6020, 'Pulseira Estampa': 11658, 'Pulseira Linho': 15162, 'Pulseira Liso': 9048, 'Pulseira Listrado': 12403, 'Pulseira Xadrez': 10701, 'Relógio': 25200, 'Relógio Estampa': 25185, 'Relógio Linho': 29520, 'Relógio Liso': 24192, 'Relógio Listrado': 33354, 'Relógio Xadrez': 31458, 'Sapato': 36400, 'Sapato Estampa': 44392, 'Sapato Linho': 59823, 'Sapato Liso': 54832, 'Sapato Listrado': 45738, 'Sapato Xadrez': 41952, 'Short': 8730, 'Short Estampa': 12864, 'Short Linho': 15827, 'Short Liso': 13608, 'Short Listrado': 12036, 'Short Xadrez': 12100, 'Sunga': 12300, 'Sunga Estampa': 18720, 'Sunga Linho': 18327, 'Sunga Liso': 13110, 'Sunga Listrado': 13566, 'Sunga Xadrez': 17864, 'Terno': 82600, 'Terno Estampa': 101664, 'Terno Linho': 102750, 'Terno Liso': 79920, 'Terno Listrado': 92879, 'Terno Xadrez': 70900, 'Tênis': 25250, 'Tênis Estampa': 32000, 'Tênis Linho': 34986, 'Tênis Liso': 34048, 'Tênis Listrado': 25938, 'Tênis Xadrez': 29526}}\n"
     ]
    }
   ],
   "source": [
    "print(requisicao.json())"
   ]
  },
  {
   "cell_type": "markdown",
   "id": "fb303b0c",
   "metadata": {},
   "source": [
    "### Criar uma API com Flask"
   ]
  },
  {
   "cell_type": "code",
   "execution_count": 9,
   "id": "13f8e5d1",
   "metadata": {},
   "outputs": [
    {
     "name": "stdout",
     "output_type": "stream",
     "text": [
      " * Serving Flask app \"__main__\" (lazy loading)\n",
      " * Environment: production\n",
      "   WARNING: This is a development server. Do not use it in a production deployment.\n",
      "   Use a production WSGI server instead.\n",
      " * Debug mode: off\n"
     ]
    },
    {
     "name": "stderr",
     "output_type": "stream",
     "text": [
      " * Running on http://127.0.0.1:5000/ (Press CTRL+C to quit)\n"
     ]
    }
   ],
   "source": [
    "from flask import Flask\n",
    "import pandas as pd\n",
    "\n",
    "app = Flask(__name__) # cria o site\n",
    "tabela = pd.read_excel(\"Vendas - Dez.xlsx\")\n",
    "\n",
    "@app.route(\"/\") # decorator -> diz em qual link a função vai rodar\n",
    "def fat(): # função\n",
    "    faturamento = float(tabela[\"Valor Final\"].sum())\n",
    "    return {\"faturamento\": faturamento}\n",
    "\n",
    "@app.route(\"/vendas/produtos\") \n",
    "def vendas_produtos(): \n",
    "    tabela_vendas_produtos = tabela[[\"Produto\", \"Valor Final\"]].groupby(\"Produto\").sum()\n",
    "    dic_vendas_produtos = tabela_vendas_produtos.to_dict()\n",
    "    return dic_vendas_produtos\n",
    "\n",
    "@app.route(\"/vendas/produtos/<produto>\") \n",
    "def fat_produto(produto): \n",
    "    tabela_vendas_produtos = tabela[[\"Produto\", \"Valor Final\"]].groupby(\"Produto\").sum()\n",
    "    if produto in tabela_vendas_produtos.index:\n",
    "        vendas_produto = tabela_vendas_produtos.loc[produto]\n",
    "        dic_vendas_produto = vendas_produto.to_dict()\n",
    "        return dic_vendas_produto\n",
    "    else:\n",
    "        return {produto: \"Inexistente\"}\n",
    "    \n",
    "app.run() # no replit use app.run(host=\"0.0.0.0\") # coloca o site no ar"
   ]
  },
  {
   "cell_type": "code",
   "execution_count": null,
   "id": "71f7f184",
   "metadata": {},
   "outputs": [],
   "source": []
  }
 ],
 "metadata": {
  "kernelspec": {
   "display_name": "Python 3",
   "language": "python",
   "name": "python3"
  },
  "language_info": {
   "codemirror_mode": {
    "name": "ipython",
    "version": 3
   },
   "file_extension": ".py",
   "mimetype": "text/x-python",
   "name": "python",
   "nbconvert_exporter": "python",
   "pygments_lexer": "ipython3",
   "version": "3.8.8"
  }
 },
 "nbformat": 4,
 "nbformat_minor": 5
}
