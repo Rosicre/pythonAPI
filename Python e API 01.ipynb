{
 "cells": [
  {
   "cell_type": "markdown",
   "metadata": {},
   "source": [
    "# Python e API\n",
    "\n",
    "### O que é uma API?\n",
    "\n",
    "- É um conjunto de códigos para usar um serviço/site/aplicativo específico. Cada site/ferramenta tem sua própria API. É importante que você saiba ler as APIs que precisar para saber usar\n",
    "\n",
    "- Um dos padrões mais comuns em API é pegar informações em formato json, uma espécie de dicionário que precisa ser tratada no Python para podermos analisar\n",
    "\n",
    "- As possibilidades de API são infinitas, vamos fazer 2 exemplos aqui: Cotação de Moedas e Envio de SMS.\n",
    "\n",
    "- Sites como Google, Youtube, Facebook, Twitter, ArcGis e praticamente qualquer ferramenta/site grande tem uma API.\n",
    "\n",
    "### O que precisamos:\n",
    "\n",
    "- Quase sempre você precisa de uma conta para consumir uma API. Algumas APIs são abertas, como a https://docs.awesomeapi.com.br/api-de-moedas , mas em muitos casos (como veremos no caso do SMS) vamos precisar ter uma conta ativa para consumir a API\n",
    "\n",
    "- A Documentação da API (ou exemplos da internet) é a chave para conseguir usar uma API "
   ]
  },
  {
   "cell_type": "markdown",
   "metadata": {},
   "source": [
    "#### Pegar a Cotação Atual de Todas as Moedas "
   ]
  },
  {
   "cell_type": "code",
   "execution_count": 9,
   "metadata": {},
   "outputs": [
    {
     "name": "stdout",
     "output_type": "stream",
     "text": [
      "{'USD': {'code': 'USD', 'codein': 'BRL', 'name': 'Dólar Americano/Real Brasileiro', 'high': '5.5546', 'low': '5.5011', 'varBid': '0.0005', 'pctChange': '0.01', 'bid': '5.5286', 'ask': '5.5296', 'timestamp': '1642109399', 'create_date': '2022-01-13 18:29:59'}, 'USDT': {'code': 'USD', 'codein': 'BRLT', 'name': 'Dólar Americano/Real Brasileiro Turismo', 'high': '5.685', 'low': '5.645', 'varBid': '-0.015', 'pctChange': '-0.26', 'bid': '5.49', 'ask': '5.83', 'timestamp': '1642102620', 'create_date': '2022-01-13 16:37:00'}, 'CAD': {'code': 'CAD', 'codein': 'BRL', 'name': 'Dólar Canadense/Real Brasileiro', 'high': '4.4229', 'low': '4.4169', 'varBid': '0.0029', 'pctChange': '0.06', 'bid': '4.4172', 'ask': '4.4187', 'timestamp': '1642113994', 'create_date': '2022-01-13 19:46:34'}, 'GBP': {'code': 'GBP', 'codein': 'BRL', 'name': 'Libra Esterlina/Real Brasileiro', 'high': '7.584', 'low': '7.5793', 'varBid': '0.0029', 'pctChange': '0.04', 'bid': '7.5769', 'ask': '7.5827', 'timestamp': '1642113995', 'create_date': '2022-01-13 19:46:35'}, 'ARS': {'code': 'ARS', 'codein': 'BRL', 'name': 'Peso Argentino/Real Brasileiro', 'high': '0.0536', 'low': '0.053', 'varBid': '0', 'pctChange': '0', 'bid': '0.0533', 'ask': '0.0533', 'timestamp': '1642109399', 'create_date': '2022-01-13 18:29:59'}, 'BTC': {'code': 'BTC', 'codein': 'BRL', 'name': 'Bitcoin/Real Brasileiro', 'high': '247', 'low': '235.89', 'varBid': '-7244', 'pctChange': '-2.95', 'bid': '237.947', 'ask': '237.947', 'timestamp': '1642113974', 'create_date': '2022-01-13 19:46:14'}, 'LTC': {'code': 'LTC', 'codein': 'BRL', 'name': 'Litecoin/Real Brasileiro', 'high': '792.25', 'low': '746.6', 'varBid': '-27.44', 'pctChange': '-3.47', 'bid': '759.35', 'ask': '762.21', 'timestamp': '1642113975', 'create_date': '2022-01-13 19:46:15'}, 'EUR': {'code': 'EUR', 'codein': 'BRL', 'name': 'Euro/Real Brasileiro', 'high': '6.3363', 'low': '6.3333', 'varBid': '0.0025', 'pctChange': '0.04', 'bid': '6.333', 'ask': '6.3358', 'timestamp': '1642113990', 'create_date': '2022-01-13 19:46:30'}, 'JPY': {'code': 'JPY', 'codein': 'BRL', 'name': 'Iene Japonês/Real Brasileiro', 'high': '0.04844', 'low': '0.04842', 'varBid': '0', 'pctChange': '0', 'bid': '0.04841', 'ask': '0.04843', 'timestamp': '1642114001', 'create_date': '2022-01-13 19:46:41'}, 'CHF': {'code': 'CHF', 'codein': 'BRL', 'name': 'Franco Suíço/Real Brasileiro', 'high': '6.0729', 'low': '6.0679', 'varBid': '0.0062', 'pctChange': '0.1', 'bid': '6.0707', 'ask': '6.0738', 'timestamp': '1642113983', 'create_date': '2022-01-13 19:46:23'}, 'AUD': {'code': 'AUD', 'codein': 'BRL', 'name': 'Dólar Australiano/Real Brasileiro', 'high': '4.0279', 'low': '4.0246', 'varBid': '-0.0008', 'pctChange': '-0.02', 'bid': '4.0237', 'ask': '4.0255', 'timestamp': '1642113981', 'create_date': '2022-01-13 19:46:21'}, 'CNY': {'code': 'CNY', 'codein': 'BRL', 'name': 'Yuan Chinês/Real Brasileiro', 'high': '0.8729', 'low': '0.8651', 'varBid': '-0.0009', 'pctChange': '-0.11', 'bid': '0.8693', 'ask': '0.8695', 'timestamp': '1642109523', 'create_date': '2022-01-13 18:32:03'}, 'ILS': {'code': 'ILS', 'codein': 'BRL', 'name': 'Novo Shekel Israelense/Real Brasileiro', 'high': '1.7838', 'low': '1.7687', 'varBid': '-0.0035', 'pctChange': '-0.2', 'bid': '1.7765', 'ask': '1.7768', 'timestamp': '1642112945', 'create_date': '2022-01-13 19:29:05'}, 'ETH': {'code': 'ETH', 'codein': 'BRL', 'name': 'Ethereum/Real Brasileiro', 'high': '1200.21', 'low': '1200.21', 'varBid': '0', 'pctChange': '0', 'bid': '1440.25', 'ask': '16999.75', 'timestamp': '1610415652', 'create_date': '2021-01-11 22:40:52'}, 'XRP': {'code': 'XRP', 'codein': 'BRL', 'name': 'XRP/Real Brasileiro', 'high': '4.49', 'low': '4.25', 'varBid': '-0.18', 'pctChange': '-4.01', 'bid': '4.28', 'ask': '4.3', 'timestamp': '1642114002', 'create_date': '2022-01-13 19:46:42'}, 'DOGE': {'code': 'DOGE', 'codein': 'BRL', 'name': 'Dogecoin/Real Brasileiro', 'high': '0.969389', 'low': '0.889149', 'varBid': '0.03460299', 'pctChange': '3.89', 'bid': '0.923752', 'ask': '0.923752', 'timestamp': '1642113856', 'create_date': '2022-01-13 19:44:16'}}\n"
     ]
    }
   ],
   "source": [
    "import requests\n",
    "import json\n",
    "\n",
    "cotacoes = requests.get('https://economia.awesomeapi.com.br/json/all')\n",
    "cotacoes_dic = cotacoes.json()\n",
    "print(cotacoes_dic)"
   ]
  },
  {
   "cell_type": "markdown",
   "metadata": {},
   "source": [
    "#### Qual foi a última cotação do Dólar, do Euro e do BitCoin? (Sua resposta vai dar diferente do gabarito, porque estamos rodando o código em momentos diferentes, mas o seu código deve ser o mesmo/parecido)"
   ]
  },
  {
   "cell_type": "code",
   "execution_count": 16,
   "metadata": {},
   "outputs": [
    {
     "name": "stdout",
     "output_type": "stream",
     "text": [
      " Dólar  5.5286\n",
      " Euro  6.333\n",
      " BitCoin  237.947\n"
     ]
    }
   ],
   "source": [
    "print(' Dólar  {}'.format(cotacoes_dic['USD']['bid']))\n",
    "print((' Euro  {}'.format(cotacoes_dic['EUR']['bid'])))\n",
    "print(' BitCoin  {}'.format(cotacoes_dic['BTC']['bid']))\n"
   ]
  },
  {
   "cell_type": "markdown",
   "metadata": {},
   "source": [
    "#### Pegar a cotação dos últimos 30 dias do dólar (Sua resposta vai dar diferente do gabarito, porque estamos rodando o código em momentos diferentes, mas o seu código deve ser o mesmo/parecido)"
   ]
  },
  {
   "cell_type": "code",
   "execution_count": 40,
   "metadata": {},
   "outputs": [
    {
     "name": "stdout",
     "output_type": "stream",
     "text": [
      "[5.0358, 5.5458, 5.6753, 5.5679, 5.6133, 5.5892, 5.6639, 5.7075, 5.7071, 5.6315, 5.7729, 5.7819, 5.7561, 5.6491, 5.6211, 5.5214, 5.5602, 5.5832, 5.6244, 5.6156, 5.5518, 5.5357, 5.672, 5.8025, 5.8755, 5.6908, 5.6693, 5.6193, 5.6761, 5.6418]\n"
     ]
    }
   ],
   "source": [
    "cotacoes_dolar_30d = requests.get('https://economia.awesomeapi.com.br/json/daily/USD-BRL/30')\n",
    "cotacoes_dolar_dic = cotacoes_dolar_30d.json()\n",
    "#print(cotacoes_dolar_dic[0])\n",
    "lista_cotacoes_dolar = [float (item['bid']) for item in cotacoes_dolar_dic]\n",
    "print(lista_cotacoes_dolar)"
   ]
  },
  {
   "cell_type": "markdown",
   "metadata": {},
   "source": [
    "#### Pegar as cotações do BitCoin de Out/2021 A Dez 2021"
   ]
  },
  {
   "cell_type": "code",
   "execution_count": 53,
   "metadata": {},
   "outputs": [
    {
     "name": "stdout",
     "output_type": "stream",
     "text": [
      "[262.238, 262.077, 262.238, 262.202, 262.401, 262.5, 262.349, 262.349, 262.3, 262.673, 262.66, 262.66, 262.66, 262.547, 262.1, 262.278, 262.278, 262.66, 262.66, 262.384, 263.184, 263.0, 262.657, 262.657, 262.657, 262.077, 261.984, 261.809, 261.809, 261.706, 261.706, 259.603, 259.6, 259.656, 258.913, 258.913, 260.457, 259.629, 260.011, 260.325, 260.002, 262.111, 262.111, 263.5, 264.001, 264.995, 265.2, 265.215, 265.2, 265.2, 265.15, 265.15, 265.365, 265.556, 266.0, 270.229, 270.229, 270.0, 270.001, 270.576, 270.144, 270.004, 270.0, 270.0, 270.0, 270.0, 270.317, 270.317, 270.964, 271.124, 270.798, 270.798, 270.914, 270.914, 270.914, 270.914, 270.661, 270.45, 270.421, 270.421, 270.191, 270.191, 270.205, 270.205, 270.205, 270.205, 270.205, 270.2, 270.188, 270.187, 270.187, 270.187, 270.187, 269.904, 269.603, 269.73, 269.461, 269.442, 270.0, 270.0, 270.0, 270.023, 270.023, 270.0, 270.023, 270.023, 270.023, 270.58, 270.58, 270.58, 270.367, 270.03, 270.281, 270.281, 270.56, 270.223, 272.508, 272.22, 272.0, 272.0]\n"
     ]
    }
   ],
   "source": [
    "cotacoes_btc = requests.get('https://economia.awesomeapi.com.br/BTC-BRL/120?start_date=20211001&end_date=20211231')\n",
    "cotacoes_btc_dic = cotacoes_btc.json()\n",
    "lista_cotacoes_btc = [float (item['bid']) for item in cotacoes_btc_dic]\n",
    "print(lista_cotacoes_btc)"
   ]
  },
  {
   "cell_type": "markdown",
   "metadata": {},
   "source": [
    "#### Gráfico com as cotações do BitCoin"
   ]
  },
  {
   "cell_type": "code",
   "execution_count": 54,
   "metadata": {},
   "outputs": [
    {
     "data": {
      "image/png": "[encoded data removed]",
      "text/plain": [
       "<Figure size 1080x360 with 1 Axes>"
      ]
     },
     "metadata": {
      "needs_background": "light"
     },
     "output_type": "display_data"
    }
   ],
   "source": [
    "import matplotlib.pyplot as plt\n",
    "plt.figure(figsize=(15,5))\n",
    "plt.plot(lista_cotacoes_btc)\n",
    "plt.show()"
   ]
  }
 ],
 "metadata": {
  "kernelspec": {
   "display_name": "Python 3",
   "language": "python",
   "name": "python3"
  },
  "language_info": {
   "codemirror_mode": {
    "name": "ipython",
    "version": 3
   },
   "file_extension": ".py",
   "mimetype": "text/x-python",
   "name": "python",
   "nbconvert_exporter": "python",
   "pygments_lexer": "ipython3",
   "version": "3.8.8"
  }
 },
 "nbformat": 4,
 "nbformat_minor": 4
}
